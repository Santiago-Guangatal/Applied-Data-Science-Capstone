{
 "cells": [
  {
   "cell_type": "markdown",
   "id": "b92fc626-cd0f-4f80-80e3-822cc5db07a0",
   "metadata": {},
   "source": [
    "### **EXPLORATORY ANALYSIS USING SQL**"
   ]
  },
  {
   "cell_type": "code",
   "execution_count": 36,
   "id": "def7a255-f9b3-4d13-82fc-7da7326c094a",
   "metadata": {},
   "outputs": [],
   "source": [
    "import pandas as pd\n",
    "import sqlite3"
   ]
  },
  {
   "cell_type": "code",
   "execution_count": 75,
   "id": "ccca262e-4884-4fe3-876f-970cc4012569",
   "metadata": {},
   "outputs": [
    {
     "name": "stdout",
     "output_type": "stream",
     "text": [
      "[('2010-06-04', '18:45:00', 'F9 v1.0  B0003', 'CCAFS LC-40', 'Dragon Spacecraft Qualification Unit', 0, 'LEO', 'SpaceX', 'Success', 'Failure (parachute)'), ('2010-12-08', '15:43:00', 'F9 v1.0  B0004', 'CCAFS LC-40', 'Dragon demo flight C1, two CubeSats, barrel of Brouere cheese', 0, 'LEO (ISS)', 'NASA (COTS) NRO', 'Success', 'Failure (parachute)'), ('2012-05-22', '7:44:00', 'F9 v1.0  B0005', 'CCAFS LC-40', 'Dragon demo flight C2', 525, 'LEO (ISS)', 'NASA (COTS)', 'Success', 'No attempt'), ('2012-10-08', '0:35:00', 'F9 v1.0  B0006', 'CCAFS LC-40', 'SpaceX CRS-1', 500, 'LEO (ISS)', 'NASA (CRS)', 'Success', 'No attempt'), ('2013-03-01', '15:10:00', 'F9 v1.0  B0007', 'CCAFS LC-40', 'SpaceX CRS-2', 677, 'LEO (ISS)', 'NASA (CRS)', 'Success', 'No attempt')]\n"
     ]
    }
   ],
   "source": [
    "# Connect to SQLite database\n",
    "con = sqlite3.connect(\"my_data1.db\")\n",
    "cur = con.cursor()\n",
    "\n",
    "# Load the CSV file into a pandas DataFrame\n",
    "df = pd.read_csv(\"https://cf-courses-data.s3.us.cloud-object-storage.appdomain.cloud/IBM-DS0321EN-SkillsNetwork/labs/module_2/data/Spacex.csv\")\n",
    "\n",
    "# Save the DataFrame in the SQLite table\n",
    "df.to_sql(\"SPACEXTBL\", con, if_exists='replace', index=False)\n",
    "\n",
    "# Execute a sample query\n",
    "cur.execute(\"SELECT * FROM SPACEXTBL LIMIT 5;\")\n",
    "print(cur.fetchall())\n",
    "\n",
    "# Close the connection\n",
    "con.close()"
   ]
  },
  {
   "cell_type": "code",
   "execution_count": 85,
   "id": "7f80d22a-fcaf-4e86-ab3a-816570bc55fa",
   "metadata": {},
   "outputs": [
    {
     "name": "stdout",
     "output_type": "stream",
     "text": [
      "SINGLE LAUNCH SITES:\n",
      "* CCAFS LC-40\n",
      "* VAFB SLC-4E\n",
      "* KSC LC-39A\n",
      "* CCAFS SLC-40\n"
     ]
    }
   ],
   "source": [
    "# Connect to SQLite database\n",
    "con = sqlite3.connect(\"my_data1.db\")\n",
    "cur = con.cursor()\n",
    "\n",
    "# Run the query to obtain the unique launch sites\n",
    "cur.execute(\"SELECT DISTINCT `Launch_Site` FROM SPACEXTBL;\")\n",
    "\n",
    "# Get all the results\n",
    "unique_launch_sites = cur.fetchall()\n",
    "\n",
    "# Print single launch sites\n",
    "print(\"SINGLE LAUNCH SITES:\")\n",
    "for site in unique_launch_sites:\n",
    "    print(\"*\",site[0])  \n",
    "    \n",
    "con.close()"
   ]
  },
  {
   "cell_type": "code",
   "execution_count": 91,
   "id": "2945e42d-17f6-4e8d-9113-bbc670b0c908",
   "metadata": {},
   "outputs": [
    {
     "name": "stdout",
     "output_type": "stream",
     "text": [
      "Records where launch sites begin with 'CCA':\n",
      "* ('2010-06-04', '18:45:00', 'F9 v1.0  B0003', 'CCAFS LC-40', 'Dragon Spacecraft Qualification Unit', 0, 'LEO', 'SpaceX', 'Success', 'Failure (parachute)')\n",
      "* ('2010-12-08', '15:43:00', 'F9 v1.0  B0004', 'CCAFS LC-40', 'Dragon demo flight C1, two CubeSats, barrel of Brouere cheese', 0, 'LEO (ISS)', 'NASA (COTS) NRO', 'Success', 'Failure (parachute)')\n",
      "* ('2012-05-22', '7:44:00', 'F9 v1.0  B0005', 'CCAFS LC-40', 'Dragon demo flight C2', 525, 'LEO (ISS)', 'NASA (COTS)', 'Success', 'No attempt')\n",
      "* ('2012-10-08', '0:35:00', 'F9 v1.0  B0006', 'CCAFS LC-40', 'SpaceX CRS-1', 500, 'LEO (ISS)', 'NASA (CRS)', 'Success', 'No attempt')\n",
      "* ('2013-03-01', '15:10:00', 'F9 v1.0  B0007', 'CCAFS LC-40', 'SpaceX CRS-2', 677, 'LEO (ISS)', 'NASA (CRS)', 'Success', 'No attempt')\n"
     ]
    }
   ],
   "source": [
    "# Open the connection to the database\n",
    "con = sqlite3.connect(\"my_data1.db\")\n",
    "cur = con.cursor()\n",
    "\n",
    "# Execute the query to find records where launch sites begin with 'CCA'\n",
    "cur.execute(\"SELECT * FROM SPACEXTBL WHERE `Launch_Site` LIKE 'CCA%' LIMIT 5;\")\n",
    "\n",
    "# Fetch the results\n",
    "records = cur.fetchall()\n",
    "\n",
    "# Print the records\n",
    "print(\"Records where launch sites begin with 'CCA':\")\n",
    "for record in records:\n",
    "    print(\"*\",record)\n",
    "\n",
    "# Close the connection\n",
    "con.close()"
   ]
  },
  {
   "cell_type": "code",
   "execution_count": 105,
   "id": "472727f2-51f9-4321-85cb-86fae35047dd",
   "metadata": {},
   "outputs": [
    {
     "name": "stdout",
     "output_type": "stream",
     "text": [
      "Total payload mass carried by boosters launched by NASA (CRS): 45596 kg\n"
     ]
    }
   ],
   "source": [
    "# Open the connection to the database\n",
    "con = sqlite3.connect(\"my_data1.db\")\n",
    "cur = con.cursor()\n",
    "\n",
    "# Execute the query to get the total payload mass carried by NASA (CRS) boosters\n",
    "cur.execute(\"SELECT SUM(`PAYLOAD_MASS__KG_`) FROM SPACEXTBL WHERE `Customer` = 'NASA (CRS)';\")\n",
    "\n",
    "# Fetch the result\n",
    "total_payload_mass = cur.fetchone()[0]\n",
    "\n",
    "# Print the total payload mass\n",
    "print(f\"Total payload mass carried by boosters launched by NASA (CRS): {total_payload_mass} kg\")\n",
    "\n",
    "# Close the connection\n",
    "con.close()"
   ]
  },
  {
   "cell_type": "code",
   "execution_count": 111,
   "id": "7a7c1d79-50bf-40d0-b7ad-d22519a5ac35",
   "metadata": {},
   "outputs": [
    {
     "name": "stdout",
     "output_type": "stream",
     "text": [
      "Average payload mass carried by booster version F9 v1.1: 2928.4 kg\n"
     ]
    }
   ],
   "source": [
    "# Open the connection to the database\n",
    "con = sqlite3.connect(\"my_data1.db\")\n",
    "cur = con.cursor()\n",
    "\n",
    "# Execute the query to get the average payload mass for booster version F9 v1.1\n",
    "cur.execute(\"SELECT AVG(`PAYLOAD_MASS__KG_`) FROM SPACEXTBL WHERE `Booster_Version` = 'F9 v1.1';\")\n",
    "\n",
    "# Fetch the result\n",
    "average_payload_mass = cur.fetchone()[0]\n",
    "\n",
    "# Print the average payload mass\n",
    "print(f\"Average payload mass carried by booster version F9 v1.1: {average_payload_mass} kg\")\n",
    "\n",
    "# Close the connection\n",
    "con.close()\n"
   ]
  },
  {
   "cell_type": "code",
   "execution_count": 121,
   "id": "0071c44e-07bd-4470-bbe3-263bfd4f7f60",
   "metadata": {},
   "outputs": [
    {
     "name": "stdout",
     "output_type": "stream",
     "text": [
      "The date of the first successful landing outcome on a ground pad: 2018-07-22\n"
     ]
    }
   ],
   "source": [
    "# Open the connection to the database\n",
    "con = sqlite3.connect(\"my_data1.db\")\n",
    "cur = con.cursor()\n",
    "\n",
    "# Execute the query to get the date of the first successful landing on a ground pad\n",
    "cur.execute(\"SELECT MIN(`Date`) FROM SPACEXTBL WHERE `Landing_Outcome` = 'Success';\")\n",
    "\n",
    "# Fetch the result\n",
    "first_successful_landing_date = cur.fetchone()[0]\n",
    "\n",
    "# Print the date of the first successful landing outcome\n",
    "print(f\"The date of the first successful landing outcome on a ground pad: {first_successful_landing_date}\")\n",
    "\n",
    "# Close the connection\n",
    "con.close()\n"
   ]
  },
  {
   "cell_type": "code",
   "execution_count": 129,
   "id": "2d6b1773-7a57-4fa9-bdf9-02378fa7e7c2",
   "metadata": {},
   "outputs": [
    {
     "name": "stdout",
     "output_type": "stream",
     "text": [
      "Boosters with successful landings on drone ships and payload mass between 4000 and 6000 kg:\n",
      "F9 FT B1022\n",
      "F9 FT B1026\n",
      "F9 FT  B1021.2\n",
      "F9 FT  B1031.2\n"
     ]
    }
   ],
   "source": [
    "# Open the connection to the database\n",
    "con = sqlite3.connect(\"my_data1.db\")\n",
    "cur = con.cursor()\n",
    "\n",
    "# Execute the query to get the names of the boosters\n",
    "cur.execute(\"\"\"\n",
    "    SELECT DISTINCT `Booster_Version`\n",
    "    FROM SPACEXTBL\n",
    "    WHERE `Landing_Outcome` LIKE 'Success (drone ship)' \n",
    "    AND `PAYLOAD_MASS__KG_` > 4000 \n",
    "    AND `PAYLOAD_MASS__KG_` < 6000;\n",
    "\"\"\")\n",
    "\n",
    "# Fetch all the results\n",
    "boosters = cur.fetchall()\n",
    "\n",
    "# Print the names of the boosters\n",
    "print(\"Boosters with successful landings on drone ships and payload mass between 4000 and 6000 kg:\")\n",
    "for booster in boosters:\n",
    "    print(booster[0])\n",
    "\n",
    "# Close the connection\n",
    "con.close()"
   ]
  },
  {
   "cell_type": "code",
   "execution_count": 131,
   "id": "647fbb2f-d3d2-4314-96d2-cff2c773b40d",
   "metadata": {},
   "outputs": [
    {
     "name": "stdout",
     "output_type": "stream",
     "text": [
      "Total number of successful and failed mission outcomes:\n",
      "Failure (in flight): 1\n",
      "Success: 98\n",
      "Success : 1\n",
      "Success (payload status unclear): 1\n"
     ]
    }
   ],
   "source": [
    "# Open the connection to the database\n",
    "con = sqlite3.connect(\"my_data1.db\")\n",
    "cur = con.cursor()\n",
    "\n",
    "# Execute the query to count successful and failed mission outcomes\n",
    "cur.execute(\"\"\"\n",
    "    SELECT `Mission_Outcome`, COUNT(*) AS total_count\n",
    "    FROM SPACEXTBL\n",
    "    GROUP BY `Mission_Outcome`;\n",
    "\"\"\")\n",
    "\n",
    "# Fetch all the results\n",
    "outcomes = cur.fetchall()\n",
    "\n",
    "# Print the total counts of successful and failed missions\n",
    "print(\"Total number of successful and failed mission outcomes:\")\n",
    "for outcome in outcomes:\n",
    "    print(f\"{outcome[0]}: {outcome[1]}\")\n",
    "\n",
    "# Close the connection\n",
    "con.close()"
   ]
  },
  {
   "cell_type": "code",
   "execution_count": 133,
   "id": "db58eb55-be20-4d4d-be5b-bc3082ffbeef",
   "metadata": {},
   "outputs": [
    {
     "name": "stdout",
     "output_type": "stream",
     "text": [
      "Booster versions that carried the maximum payload mass:\n",
      "F9 B5 B1048.4\n",
      "F9 B5 B1049.4\n",
      "F9 B5 B1051.3\n",
      "F9 B5 B1056.4\n",
      "F9 B5 B1048.5\n",
      "F9 B5 B1051.4\n",
      "F9 B5 B1049.5\n",
      "F9 B5 B1060.2 \n",
      "F9 B5 B1058.3 \n",
      "F9 B5 B1051.6\n",
      "F9 B5 B1060.3\n",
      "F9 B5 B1049.7 \n"
     ]
    }
   ],
   "source": [
    "# Open the connection to the database\n",
    "con = sqlite3.connect(\"my_data1.db\")\n",
    "cur = con.cursor()\n",
    "\n",
    "# Execute the query to find the booster versions with maximum payload mass\n",
    "cur.execute(\"\"\"\n",
    "    SELECT Booster_Version\n",
    "    FROM SPACEXTBL\n",
    "    WHERE PAYLOAD_MASS__KG_ = (SELECT MAX(PAYLOAD_MASS__KG_) FROM SPACEXTBL);\n",
    "\"\"\")\n",
    "\n",
    "# Fetch all the results\n",
    "booster_versions = cur.fetchall()\n",
    "\n",
    "# Print the names of the booster versions\n",
    "print(\"Booster versions that carried the maximum payload mass:\")\n",
    "for version in booster_versions:\n",
    "    print(version[0])\n",
    "\n",
    "# Close the connection\n",
    "con.close()"
   ]
  },
  {
   "cell_type": "code",
   "execution_count": 135,
   "id": "f84a46a2-9aba-4007-ae7b-0b6278b3babf",
   "metadata": {},
   "outputs": [
    {
     "name": "stdout",
     "output_type": "stream",
     "text": [
      "Month_Name | Landing_Outcome | Booster_Version | Launch_Site\n",
      "--------------------------------------------------------\n",
      "January      | Failure (drone ship) | F9 v1.1 B1012    | CCAFS LC-40\n",
      "April        | Failure (drone ship) | F9 v1.1 B1015    | CCAFS LC-40\n"
     ]
    }
   ],
   "source": [
    "# Open the connection to the database\n",
    "con = sqlite3.connect(\"my_data1.db\")\n",
    "cur = con.cursor()\n",
    "\n",
    "# Execute the query to get the required records\n",
    "cur.execute(\"\"\"\n",
    "    SELECT \n",
    "        CASE \n",
    "            WHEN substr(Date, 6, 2) = '01' THEN 'January'\n",
    "            WHEN substr(Date, 6, 2) = '02' THEN 'February'\n",
    "            WHEN substr(Date, 6, 2) = '03' THEN 'March'\n",
    "            WHEN substr(Date, 6, 2) = '04' THEN 'April'\n",
    "            WHEN substr(Date, 6, 2) = '05' THEN 'May'\n",
    "            WHEN substr(Date, 6, 2) = '06' THEN 'June'\n",
    "            WHEN substr(Date, 6, 2) = '07' THEN 'July'\n",
    "            WHEN substr(Date, 6, 2) = '08' THEN 'August'\n",
    "            WHEN substr(Date, 6, 2) = '09' THEN 'September'\n",
    "            WHEN substr(Date, 6, 2) = '10' THEN 'October'\n",
    "            WHEN substr(Date, 6, 2) = '11' THEN 'November'\n",
    "            WHEN substr(Date, 6, 2) = '12' THEN 'December'\n",
    "        END AS Month_Name,\n",
    "        Landing_Outcome,\n",
    "        Booster_Version,\n",
    "        Launch_Site\n",
    "    FROM SPACEXTBL\n",
    "    WHERE Landing_Outcome LIKE '%Failure%'\n",
    "    AND substr(Date, 0, 5) = '2015';\n",
    "\"\"\")\n",
    "\n",
    "# Fetch all the results\n",
    "records = cur.fetchall()\n",
    "\n",
    "# Print the records\n",
    "print(\"Month_Name | Landing_Outcome | Booster_Version | Launch_Site\")\n",
    "print(\"--------------------------------------------------------\")\n",
    "for record in records:\n",
    "    print(f\"{record[0]:<12} | {record[1]:<16} | {record[2]:<16} | {record[3]}\")\n",
    "\n",
    "# Close the connection\n",
    "con.close()\n",
    "\n",
    "#Note: SQLLite does not support monthnames. So you need to use substr(Date, 6,2) as month to get the months and substr(Date,0,5)='2015' for year."
   ]
  },
  {
   "cell_type": "code",
   "execution_count": 137,
   "id": "e3d6662b-ba80-4187-93c7-08e7b047f042",
   "metadata": {},
   "outputs": [
    {
     "name": "stdout",
     "output_type": "stream",
     "text": [
      "Landing_Outcome | Outcome_Count\n",
      "-----------------------------\n",
      "No attempt       | 10\n",
      "Success (drone ship) | 5\n",
      "Failure (drone ship) | 5\n",
      "Success (ground pad) | 3\n",
      "Controlled (ocean) | 3\n",
      "Uncontrolled (ocean) | 2\n",
      "Failure (parachute) | 2\n",
      "Precluded (drone ship) | 1\n"
     ]
    }
   ],
   "source": [
    "# Open the connection to the database\n",
    "con = sqlite3.connect(\"my_data1.db\")\n",
    "cur = con.cursor()\n",
    "\n",
    "# Execute the query to count and rank landing outcomes\n",
    "cur.execute(\"\"\"\n",
    "    SELECT Landing_Outcome, COUNT(*) AS Outcome_Count\n",
    "    FROM SPACEXTBL\n",
    "    WHERE Date BETWEEN '2010-06-04' AND '2017-03-20'\n",
    "    GROUP BY Landing_Outcome\n",
    "    ORDER BY Outcome_Count DESC;\n",
    "\"\"\")\n",
    "\n",
    "# Fetch all the results\n",
    "records = cur.fetchall()\n",
    "\n",
    "# Print the records\n",
    "print(\"Landing_Outcome | Outcome_Count\")\n",
    "print(\"-----------------------------\")\n",
    "for record in records:\n",
    "    print(f\"{record[0]:<16} | {record[1]}\")\n",
    "\n",
    "# Close the connection\n",
    "con.close()"
   ]
  },
  {
   "cell_type": "code",
   "execution_count": null,
   "id": "712b228e-c0f8-4687-a0c0-bc79a6e1fe5a",
   "metadata": {},
   "outputs": [],
   "source": []
  }
 ],
 "metadata": {
  "kernelspec": {
   "display_name": "Python 3 (ipykernel)",
   "language": "python",
   "name": "python3"
  },
  "language_info": {
   "codemirror_mode": {
    "name": "ipython",
    "version": 3
   },
   "file_extension": ".py",
   "mimetype": "text/x-python",
   "name": "python",
   "nbconvert_exporter": "python",
   "pygments_lexer": "ipython3",
   "version": "3.12.3"
  }
 },
 "nbformat": 4,
 "nbformat_minor": 5
}
